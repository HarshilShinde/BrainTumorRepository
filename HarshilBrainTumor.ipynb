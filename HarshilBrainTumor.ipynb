{
  "nbformat": 4,
  "nbformat_minor": 0,
  "metadata": {
    "colab": {
      "name": "HarshilBrainTumor.ipynb",
      "provenance": [],
      "collapsed_sections": [],
      "authorship_tag": "ABX9TyPQ4nNLWTXUq7tp0N1N8gXB",
      "include_colab_link": true
    },
    "kernelspec": {
      "name": "python3",
      "display_name": "Python 3"
    },
    "language_info": {
      "name": "python"
    }
  },
  "cells": [
    {
      "cell_type": "markdown",
      "metadata": {
        "id": "view-in-github",
        "colab_type": "text"
      },
      "source": [
        "<a href=\"https://colab.research.google.com/github/HarshilShinde/BrainTumorRepository/blob/main/HarshilBrainTumor.ipynb\" target=\"_parent\"><img src=\"https://colab.research.google.com/assets/colab-badge.svg\" alt=\"Open In Colab\"/></a>"
      ]
    },
    {
      "cell_type": "code",
      "metadata": {
        "id": "cw8b5jGLVrEH",
        "colab": {
          "base_uri": "https://localhost:8080/"
        },
        "outputId": "b2911a86-6a00-4c46-9c8c-f92944ecb664"
      },
      "source": [
        "print('Hello World')"
      ],
      "execution_count": null,
      "outputs": [
        {
          "output_type": "stream",
          "text": [
            "Hello World\n"
          ],
          "name": "stdout"
        }
      ]
    },
    {
      "cell_type": "code",
      "metadata": {
        "id": "ve477RKxMYmv"
      },
      "source": [
        "from os import listdir  \n",
        "import time\n",
        "import cv2\n",
        "import imutils\n",
        "import tensorflow as tf\n",
        "from tensorflow.keras.layers import Conv2D, ZeroPadding2D, BatchNormalization, Activation, MaxPooling2D, Flatten, Dense, Input\n",
        "from tensorflow.keras.callbacks import TensorBoard, ModelCheckpoint\n",
        "from sklearn.model_selection import train_test_split\n",
        "from sklearn.utils import shuffle\n",
        "from sklearn.metrics import f1_score\n",
        "import numpy as np\n",
        "import matplotlib.pyplot as plt\n",
        "%matplotlib inline"
      ],
      "execution_count": null,
      "outputs": []
    },
    {
      "cell_type": "markdown",
      "metadata": {
        "id": "lykh4KkzNRyp"
      },
      "source": [
        "# **The steps involved in solving a Deep Learning problem**\n",
        "1. Environment Setup: Import Necessary packages \n",
        "2. Loading of Input: Data importing and Exploration, Preprocessing\n",
        "3. Split the data into two parts: \"Training images and Testing images\"\n",
        "4. Building a Deep learningModel:Using appropriate algorithm,Train the model with training image, and saving the model with weights.\n",
        "5. Model Evaluation: Getting Accuracy for the predicted model \n",
        "6. Finally observing the model with testing image to get final prediction."
      ]
    },
    {
      "cell_type": "markdown",
      "metadata": {
        "id": "y0BrZtOKNl1q"
      },
      "source": [
        "# **Information on Libraries **\n",
        "- **listdir**- To get the list of all files and directories in the specified \n",
        "- **time**- This function returns the number of seconds passed since epoch\n",
        "- **cv2**- Loads an image from the specified file\n",
        "- **tensorflow**- TensorFlow is a free and open-source software library for dataflow and differentiable programming across a range of tasks.\n",
        "- **shuffle**- The shuffle() method takes a sequence (list, string, or tuple and data) and reorganize the order of the items.\n",
        "- **numpy**- ) is a library for the Python programming language, adding support for large, multi-dimensional arrays and matrices, along with a large collection of high-level mathematical functions to operate on these arrays\n",
        "- **matplotlib**- is a library creates a plotting area in a figure, plots some lines in a plotting area, decorates the plot with labels\n",
        "- **imutils**-  A series of convenience functions to make basic image processing functions such as translation, rotation, resizing, skeletonization, and displaying Matplotlib images easier with OpenCV \n",
        "- **sklearn.metrics**-  implements several loss, score, and utility functions to measure classification performance.\n",
        "- **sklearn.model_selection**-  that wraps input validation and next(ShuffleSplit().split(X, y)) and application to input data into a single call for splitting (and optionally subsampling) data in a oneliner.\n",
        "- **Keras**- is an open-source neural-network library written in Python. It is capable of running on top of TensorFlow,Designed to enable fast experimentation with deep neural networks, it focuses on being user-friendly, modular, and extensible\n",
        "- **tensorflow.keras.callbacks**- A custom callback is a powerful tool to customize the behavior of a Keras model during training, evaluation, or inference, including reading/changing the Keras model."
      ]
    },
    {
      "cell_type": "markdown",
      "metadata": {
        "id": "GsemARAfNsS0"
      },
      "source": [
        "A hidden layers is nothing but number of hidden patterns associated between input(x) and output(y)\n",
        "- **Zero Padding**=> symmetrically adding zeroes to the input matrix\n",
        "- **Convolutional 2D**=> Calculates dot product of pixel value \n",
        "- **Batch Normalization**=> Improves performance, stability of CNN\n",
        "- **Relu**=> An activation function in Neural Network\n",
        "- **Maxpool**=> A Sample based  discretization  process for input data.\n",
        "- **Flattern**=> Pooled features mapped into single column\n",
        "- **Dense**=> To connect the pooled features into connected layer."
      ]
    }
  ]
}