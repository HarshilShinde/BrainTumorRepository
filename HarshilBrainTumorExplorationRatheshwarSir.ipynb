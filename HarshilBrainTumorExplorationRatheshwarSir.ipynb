{
  "nbformat": 4,
  "nbformat_minor": 0,
  "metadata": {
    "colab": {
      "name": "HarshilBrainTumorExplorationRatheshwarSir.ipynb",
      "provenance": [],
      "authorship_tag": "ABX9TyNWTgBYmbJYT2xl29nDT9fp",
      "include_colab_link": true
    },
    "kernelspec": {
      "name": "python3",
      "display_name": "Python 3"
    },
    "language_info": {
      "name": "python"
    }
  },
  "cells": [
    {
      "cell_type": "markdown",
      "metadata": {
        "id": "view-in-github",
        "colab_type": "text"
      },
      "source": [
        "<a href=\"https://colab.research.google.com/github/HarshilShinde/BrainTumorRepository/blob/main/HarshilBrainTumorExplorationRatheshwarSir.ipynb\" target=\"_parent\"><img src=\"https://colab.research.google.com/assets/colab-badge.svg\" alt=\"Open In Colab\"/></a>"
      ]
    },
    {
      "cell_type": "markdown",
      "metadata": {
        "id": "aIA530S_WitA"
      },
      "source": [
        "#The Steps involved in solving a problem in Deep Learning\n",
        "\n",
        "\n",
        "1. Environment Setup: Import Necessary packages\n",
        "2. Loading of Input: Data importing and Exploration, Preprocessing \n",
        "3. Split the data into two parts: \"Training images and Testing images\" \n",
        "4. Building a Deep learningModel:Using appropriate algorithm,Train the model with training image, and saving the model with weights.\n",
        "5. Model Evaluation: Getting Accuracy for the predicted model\n",
        "6. Finally observing the model with testing image to get final prediction.\n",
        "\n",
        "\n",
        "\n"
      ]
    },
    {
      "cell_type": "markdown",
      "metadata": {
        "id": "3-VO2li0XFO-"
      },
      "source": [
        "#(1) Environment Setup\n",
        "listdir- To get the list of all files and directories in the specified\n",
        "\n",
        "time- This function returns the number of seconds passed since epoch\n",
        "\n",
        "cv2- Loads an image from the specified file\n",
        "\n",
        "tensorflow- TensorFlow is a free and open-source software library for dataflow and differentiable programming across a range of tasks.\n",
        "\n",
        "shuffle- The shuffle() method takes a sequence (list, string, or tuple and data) and reorganize the order of the items.\n",
        "\n",
        "numpy- ) is a library for the Python programming language, adding support for large, multi-dimensional arrays and matrices, along with a large collection of high-level mathematical functions to operate on these arrays.\n",
        "\n",
        "matplotlib- is a library creates a plotting area in a figure, plots some lines in a plotting area, decorates the plot with labels\n",
        "\n",
        "imutils- A series of convenience functions to make basic image processing functions such as translation, rotation, resizing, skeletonization, and displaying Matplotlib images easier with OpenCV.\n",
        "\n",
        "sklearn.metrics- implements several loss, score, and utility functions to measure classification performance.\n",
        "\n",
        "sklearn.model_selection- that wraps input validation and next(ShuffleSplit().split(X, y)) and application to input data into a single call for splitting (and optionally subsampling) data in a oneliner.\n",
        "\n",
        "Keras- is an open-source neural-network library written in Python. It is capable of running on top of TensorFlow,Designed to enable fast experimentation with deep neural networks, it focuses on being user-friendly, modular, and extensible.\n",
        "\n",
        "tensorflow.keras.callbacks- A custom callback is a powerful tool to customize the behavior of a Keras model during training, evaluation, or inference, including reading/changing the Keras model."
      ]
    },
    {
      "cell_type": "code",
      "metadata": {
        "id": "1vFjWyZ-XXDG"
      },
      "source": [
        "from os import listdir\n",
        "import time\n",
        "import cv2\n",
        "import imutils\n",
        "import tensorflow as tf\n",
        "from tensorflow.keras.layers import Conv2D, ZeroPadding2D, BatchNormalization, Activation, MaxPooling2D, Flatten, Dense, Input\n",
        "from tensorflow.keras.callbacks import TensorBoard, ModelCheckpoint\n",
        "from sklearn.model_selection import train_test_split\n",
        "from sklearn.utils import shuffle\n",
        "from sklearn.metrics import f1_score\n",
        "import numpy as np\n",
        "import matplotlib.pyplot as plt\n",
        "\n",
        "%matplotlib inline"
      ],
      "execution_count": 1,
      "outputs": []
    },
    {
      "cell_type": "markdown",
      "metadata": {
        "id": "mjtXNk3eXdxa"
      },
      "source": [
        "#Hidden Layers\n",
        "A hidden layers is nothing but number of hidden patterns associated between input(x) and output(y)\n",
        "\n",
        "**Zero Padding=>** symmetrically adding zeroes to the input matrix\n",
        "\n",
        "**Convolutional 2D=>** Calculates dot product of pixel value\n",
        "\n",
        "**Batch Normalization=>** Improves performance, stability of CNN\n",
        "\n",
        "**Relu=>** An activation function in Neural Network\n",
        "\n",
        "**Maxpool=>** A Sample based discretization process for input data.\n",
        "\n",
        "**Flattern=>** Pooled features mapped into single column.\n",
        "\n",
        "**Dense=>** To connect the pooled features into connected layer."
      ]
    },
    {
      "cell_type": "markdown",
      "metadata": {
        "id": "SgyanNB2YPcL"
      },
      "source": [
        "#(2) Loading of Input-Data importing, Exploration, Preprocessing"
      ]
    },
    {
      "cell_type": "code",
      "metadata": {
        "colab": {
          "base_uri": "https://localhost:8080/"
        },
        "id": "qMQelb-bYTwH",
        "outputId": "6bdb17a5-e9b3-4ee6-99b1-b6968dbe5fea"
      },
      "source": [
        "# check Pillow version number\n",
        "import PIL\n",
        "print('Pillow Version:', PIL.__version__)\n",
        "#PIL- Python Image Library, it supports opening, manipulating and saving many different image fil"
      ],
      "execution_count": 2,
      "outputs": [
        {
          "output_type": "stream",
          "text": [
            "Pillow Version: 7.1.2\n"
          ],
          "name": "stdout"
        }
      ]
    },
    {
      "cell_type": "code",
      "metadata": {
        "colab": {
          "base_uri": "https://localhost:8080/"
        },
        "id": "EuqLRhyIYu52",
        "outputId": "860aff7f-4795-458b-ee61-d53836bcc1c0"
      },
      "source": [
        "from PIL import Image\n",
        "image = Image.open('no/no 1.jpg')\n",
        "print(image.format)\n",
        "print(image.mode)\n",
        "print(image.size)"
      ],
      "execution_count": 3,
      "outputs": [
        {
          "output_type": "stream",
          "text": [
            "JPEG\n",
            "RGB\n",
            "(225, 225)\n"
          ],
          "name": "stdout"
        }
      ]
    },
    {
      "cell_type": "code",
      "metadata": {
        "colab": {
          "base_uri": "https://localhost:8080/",
          "height": 273
        },
        "id": "9A9FkUpcYyEg",
        "outputId": "798822e2-ccf4-4a55-e9af-c68241a5d4c7"
      },
      "source": [
        "from matplotlib import image\n",
        "from matplotlib import pyplot\n",
        "data = image.imread('no/13 no.jpg')\n",
        "print(data.dtype)\n",
        "print(data.shape)\n",
        "pyplot.imshow(data)\n",
        "pyplot.show()"
      ],
      "execution_count": 4,
      "outputs": [
        {
          "output_type": "stream",
          "text": [
            "uint8\n",
            "(168, 300, 3)\n"
          ],
          "name": "stdout"
        },
        {
          "output_type": "display_data",
          "data": {
            "image/png": "[encoded data removed]",
            "text/plain": [
              "<Figure size 432x288 with 1 Axes>"
            ]
          },
          "metadata": {
            "tags": [],
            "needs_background": "light"
          }
        }
      ]
    },
    {
      "cell_type": "code",
      "metadata": {
        "colab": {
          "base_uri": "https://localhost:8080/",
          "height": 336
        },
        "id": "yx4-nEbxaUvr",
        "outputId": "27c3a76d-e74f-49f7-a066-c0e82eaa85ea"
      },
      "source": [
        "from PIL import Image\n",
        "from numpy import asarray\n",
        "image = Image.open('yes/Y1.jpg')\n",
        "data = asarray(image)\n",
        "print(data.shape)\n",
        "print(image.format)\n",
        "print(image.mode)\n",
        "print(image.size)\n",
        "pyplot.imshow(data)\n",
        "pyplot.show()"
      ],
      "execution_count": 5,
      "outputs": [
        {
          "output_type": "stream",
          "text": [
            "(218, 180, 3)\n",
            "JPEG\n",
            "RGB\n",
            "(180, 218)\n"
          ],
          "name": "stdout"
        },
        {
          "output_type": "display_data",
          "data": {
            "image/png": "[encoded data removed]",
            "text/plain": [
              "<Figure size 432x288 with 1 Axes>"
            ]
          },
          "metadata": {
            "tags": [],
            "needs_background": "light"
          }
        }
      ]
    },
    {
      "cell_type": "code",
      "metadata": {
        "colab": {
          "base_uri": "https://localhost:8080/"
        },
        "id": "sEYTb27Haag0",
        "outputId": "0e3a4f90-89d0-41e6-952e-2294727a3033"
      },
      "source": [
        "#loading all the images in a directory\n",
        "from matplotlib import image\n",
        "from os import listdir\n",
        "loaded_images = list()\n",
        "for filename in listdir('yes'):\n",
        "    brain_tumor = image.imread('yes/' + filename)\n",
        "    loaded_images.append(brain_tumor)\n",
        "    print('>Loaded %s %s' %(filename, brain_tumor.shape))"
      ],
      "execution_count": 6,
      "outputs": [
        {
          "output_type": "stream",
          "text": [
            ">Loaded Y251.JPG (349, 278, 3)\n",
            ">Loaded Y25.jpg (630, 504, 3)\n",
            ">Loaded Y71.JPG (349, 300, 3)\n",
            ">Loaded Y184.JPG (173, 189, 3)\n",
            ">Loaded Y52.jpg (938, 911)\n",
            ">Loaded Y35.jpg (446, 450, 3)\n",
            ">Loaded Y42.jpg (210, 200, 3)\n",
            ">Loaded Y24.jpg (1024, 1024)\n",
            ">Loaded Y181.jpg (380, 310, 3)\n",
            ">Loaded Y44.JPG (337, 293, 3)\n",
            ">Loaded Y242.JPG (344, 279, 3)\n",
            ">Loaded Y60.jpg (255, 197, 3)\n",
            ">Loaded Y95.jpg (225, 225, 3)\n",
            ">Loaded Y245.jpg (237, 213, 3)\n",
            ">Loaded Y33.jpg (512, 512, 3)\n",
            ">Loaded Y103.jpg (993, 825, 3)\n",
            ">Loaded Y159.JPG (354, 303, 3)\n",
            ">Loaded Y14.jpg (300, 289)\n",
            ">Loaded Y183.jpg (347, 300, 3)\n",
            ">Loaded Y21.jpg (247, 204, 3)\n",
            ">Loaded Y30.jpg (325, 300)\n",
            ">Loaded Y250.jpg (236, 213, 3)\n",
            ">Loaded Y34.jpg (380, 310, 3)\n",
            ">Loaded Y100.JPG (348, 287, 3)\n",
            ">Loaded Y20.jpg (300, 240, 3)\n",
            ">Loaded Y31.jpg (294, 250)\n",
            ">Loaded Y186.jpg (450, 355, 3)\n",
            ">Loaded Y77.jpg (353, 300, 3)\n",
            ">Loaded Y58.JPG (340, 314, 3)\n",
            ">Loaded Y79.jpg (431, 400, 3)\n",
            ">Loaded Y170.JPG (355, 290, 3)\n",
            ">Loaded Y92.png (300, 240)\n",
            ">Loaded Y62.jpg (294, 250)\n",
            ">Loaded Y101.jpg (336, 300)\n",
            ">Loaded Y86.JPG (350, 272, 3)\n",
            ">Loaded Y117.JPG (310, 246, 3)\n",
            ">Loaded Y115.JPG (298, 260, 3)\n",
            ">Loaded Y106.jpg (253, 200, 3)\n",
            ">Loaded Y16.JPG (360, 313, 3)\n",
            ">Loaded Y108.jpg (1200, 1059)\n",
            ">Loaded Y49.JPG (307, 271, 3)\n",
            ">Loaded Y192.JPG (342, 273, 3)\n",
            ">Loaded Y91.jpg (1280, 1061, 3)\n",
            ">Loaded Y46.jpg (929, 634, 3)\n",
            ">Loaded Y148.JPG (283, 231, 3)\n",
            ">Loaded Y56.jpg (239, 211, 3)\n",
            ">Loaded Y37.jpg (360, 319)\n",
            ">Loaded Y17.jpg (300, 289)\n",
            ">Loaded Y253.JPG (338, 283, 3)\n",
            ">Loaded Y54.jpg (325, 300)\n",
            ">Loaded Y11.jpg (369, 400, 3)\n",
            ">Loaded Y67.JPG (233, 215, 3)\n",
            ">Loaded Y161.JPG (351, 273, 3)\n",
            ">Loaded Y3.jpg (519, 456, 3)\n",
            ">Loaded Y78.jpg (251, 201, 3)\n",
            ">Loaded Y82.jpg (223, 226, 3)\n",
            ">Loaded Y90.jpg (512, 512, 3)\n",
            ">Loaded Y75.JPG (338, 264, 3)\n",
            ">Loaded Y258.JPG (349, 292, 3)\n",
            ">Loaded Y7.jpg (456, 374, 3)\n",
            ">Loaded Y51.jpg (938, 911, 3)\n",
            ">Loaded Y187.jpg (244, 206, 3)\n",
            ">Loaded Y113.JPG (312, 254, 3)\n",
            ">Loaded Y99.JPG (357, 283, 3)\n",
            ">Loaded Y168.jpg (300, 263, 3)\n",
            ">Loaded Y147.JPG (352, 321, 3)\n",
            ">Loaded Y108.png (1200, 1059, 3)\n",
            ">Loaded Y50.JPG (350, 315, 3)\n",
            ">Loaded Y158.JPG (334, 283, 3)\n",
            ">Loaded Y76.jpg (442, 353, 3)\n",
            ">Loaded Y114.JPG (249, 178, 3)\n",
            ">Loaded Y252.jpg (256, 197, 3)\n",
            ">Loaded Y45.JPG (340, 291, 3)\n",
            ">Loaded Y36.JPG (251, 204, 3)\n",
            ">Loaded Y53.jpg (219, 230, 3)\n",
            ">Loaded Y154.jpg (431, 400, 3)\n",
            ">Loaded Y109.JPG (279, 258, 3)\n",
            ">Loaded Y182.JPG (318, 273, 3)\n",
            ">Loaded Y164.JPG (336, 264, 3)\n",
            ">Loaded Y194.jpg (256, 256, 3)\n",
            ">Loaded Y153.jpg (359, 300, 3)\n",
            ">Loaded Y165.JPG (303, 223, 3)\n",
            ">Loaded Y257.jpg (960, 781, 3)\n",
            ">Loaded Y32.jpg (555, 526, 3)\n",
            ">Loaded Y160.JPG (348, 297, 3)\n",
            ">Loaded Y26.jpg (630, 628, 3)\n",
            ">Loaded Y120.JPG (245, 224, 3)\n",
            ">Loaded Y247.JPG (338, 248, 3)\n",
            ">Loaded Y98.JPG (323, 276, 3)\n",
            ">Loaded Y41.jpg (1427, 1275)\n",
            ">Loaded Y97.JPG (355, 272, 3)\n",
            ">Loaded Y12.jpg (500, 377)\n",
            ">Loaded Y111.JPG (324, 272, 3)\n",
            ">Loaded Y18.JPG (354, 279, 3)\n",
            ">Loaded Y55.jpg (620, 620, 3)\n",
            ">Loaded Y156.JPG (370, 286, 3)\n",
            ">Loaded Y162.jpg (1200, 1059, 3)\n",
            ">Loaded Y157.JPG (309, 232, 3)\n",
            ">Loaded Y85.JPG (308, 244, 3)\n",
            ">Loaded Y27.jpg (630, 630, 3)\n",
            ">Loaded Y61.jpg (520, 433, 3)\n",
            ">Loaded Y40.JPG (365, 306, 3)\n",
            ">Loaded Y96.jpg (938, 864, 3)\n",
            ">Loaded Y22.jpg (380, 294, 3)\n",
            ">Loaded Y259.JPG (324, 278, 3)\n",
            ">Loaded Y249.JPG (331, 260, 3)\n",
            ">Loaded Y9.jpg (630, 630, 3)\n",
            ">Loaded Y185.jpg (380, 318, 3)\n",
            ">Loaded Y112.JPG (366, 310, 3)\n",
            ">Loaded Y70.jpg (325, 300)\n",
            ">Loaded Y69.jpg (630, 504, 3)\n",
            ">Loaded Y107.jpg (512, 512, 3)\n",
            ">Loaded Y246.JPG (355, 294, 3)\n",
            ">Loaded Y28.jpg (630, 630, 3)\n",
            ">Loaded Y116.JPG (269, 249, 3)\n",
            ">Loaded Y89.JPG (286, 241, 3)\n",
            ">Loaded Y8.jpg (446, 450, 3)\n",
            ">Loaded Y13.jpg (325, 254, 3)\n",
            ">Loaded Y59.JPG (270, 229, 3)\n",
            ">Loaded Y2.jpg (212, 209, 3)\n",
            ">Loaded Y256.JPG (352, 281, 3)\n",
            ">Loaded Y29.jpg (630, 630, 3)\n",
            ">Loaded Y39.jpg (278, 236)\n",
            ">Loaded Y193.JPG (351, 262, 3)\n",
            ">Loaded Y19.JPG (359, 297, 3)\n",
            ">Loaded Y146.JPG (355, 311, 3)\n",
            ">Loaded Y102.jpg (630, 587, 3)\n",
            ">Loaded Y243.JPG (331, 272, 3)\n",
            ">Loaded Y23.JPG (277, 272, 3)\n",
            ">Loaded Y92.jpg (260, 194, 3)\n",
            ">Loaded Y254.jpg (251, 201, 3)\n",
            ">Loaded Y248.JPG (315, 289, 3)\n",
            ">Loaded Y65.JPG (243, 205, 3)\n",
            ">Loaded Y104.jpg (890, 700, 3)\n",
            ">Loaded Y4.jpg (225, 225, 3)\n",
            ">Loaded Y195.JPG (340, 314, 3)\n",
            ">Loaded Y10.jpg (360, 319)\n",
            ">Loaded Y105.jpg (246, 205, 3)\n",
            ">Loaded Y6.jpg (938, 911, 3)\n",
            ">Loaded Y81.jpg (234, 216, 3)\n",
            ">Loaded Y15.jpg (380, 310, 3)\n",
            ">Loaded Y1.jpg (218, 180, 3)\n",
            ">Loaded Y38.jpg (325, 300)\n",
            ">Loaded Y74.jpg (620, 620, 3)\n",
            ">Loaded Y73.jpg (290, 250, 3)\n",
            ">Loaded Y255.JPG (295, 283, 3)\n",
            ">Loaded Y166.JPG (291, 253, 3)\n",
            ">Loaded Y163.JPG (316, 270, 3)\n",
            ">Loaded Y169.jpg (325, 254, 3)\n",
            ">Loaded Y47.JPG (355, 320, 3)\n",
            ">Loaded Y66.JPG (340, 288, 3)\n",
            ">Loaded Y180.jpg (586, 467, 3)\n",
            ">Loaded Y155.JPG (355, 310, 3)\n",
            ">Loaded Y244.JPG (351, 278, 3)\n",
            ">Loaded Y167.JPG (350, 272, 3)\n",
            ">Loaded Y188.jpg (879, 766, 3)\n"
          ],
          "name": "stdout"
        }
      ]
    },
    {
      "cell_type": "code",
      "metadata": {
        "colab": {
          "base_uri": "https://localhost:8080/"
        },
        "id": "axvUpXwNacZ-",
        "outputId": "c3e08b81-0d26-48b5-f650-4e5993bc94a2"
      },
      "source": [
        "from matplotlib import image\n",
        "from os import listdir\n",
        "loaded_images = list()\n",
        "for filename in listdir('no'):\n",
        "    non_tumor = image.imread('no/' + filename)\n",
        "    loaded_images.append(non_tumor)\n",
        "    print('>Loaded %s %s' %(filename, non_tumor.shape))"
      ],
      "execution_count": 7,
      "outputs": [
        {
          "output_type": "stream",
          "text": [
            ">Loaded N22.JPG (326, 276, 3)\n",
            ">Loaded 27 no.jpg (231, 218, 3)\n",
            ">Loaded 28 no.jpg (251, 201, 3)\n",
            ">Loaded No20.jpg (444, 468, 3)\n",
            ">Loaded no 91.jpeg (442, 400, 3)\n",
            ">Loaded no 4.jpg (275, 220)\n",
            ">Loaded No22.jpg (449, 359, 3)\n",
            ">Loaded 44no.jpg (442, 441, 3)\n",
            ">Loaded 36 no.jpg (221, 228, 3)\n",
            ">Loaded no 6.jpg (236, 214, 3)\n",
            ">Loaded No13.jpg (442, 442)\n",
            ">Loaded 47 no.jpg (225, 225, 3)\n",
            ">Loaded 30 no.jpg (242, 208, 3)\n",
            ">Loaded N26.JPG (264, 210, 3)\n",
            ">Loaded no.jpg (512, 512, 4)\n",
            ">Loaded 45 no.jpg (474, 356, 3)\n",
            ">Loaded 20 no.jpg (259, 194, 3)\n",
            ">Loaded 42 no.jpg (168, 300, 3)\n",
            ">Loaded no 99.jpg (442, 409)\n",
            ">Loaded 32 no.jpg (225, 225, 3)\n",
            ">Loaded N21.jpg (1024, 1024)\n",
            ">Loaded N1.JPG (338, 276, 3)\n",
            ">Loaded no 10.jpg (750, 750)\n",
            ">Loaded 25 no.jpg (217, 232, 3)\n",
            ">Loaded 8 no.jpg (251, 201, 3)\n",
            ">Loaded No12.jpg (537, 472, 3)\n",
            ">Loaded 9 no.jpg (201, 173, 3)\n",
            ">Loaded No11.jpg (630, 630, 3)\n",
            ">Loaded 29 no.jpg (234, 215, 3)\n",
            ">Loaded N15.jpg (225, 225)\n",
            ">Loaded 26 no.jpg (252, 200, 3)\n",
            ">Loaded 23 no.jpg (242, 208, 3)\n",
            ">Loaded 12 no.jpg (183, 275, 3)\n",
            ">Loaded no 8.jpg (361, 642, 3)\n",
            ">Loaded no 90.jpg (280, 420, 3)\n",
            ">Loaded 6 no.jpg (192, 192, 3)\n",
            ">Loaded no 98.jpg (725, 728, 4)\n",
            ">Loaded 22 no.jpg (243, 207, 3)\n",
            ">Loaded 37 no.jpg (225, 225, 3)\n",
            ">Loaded No19.jpg (680, 680, 3)\n",
            ">Loaded N16.jpg (238, 212, 3)\n",
            ">Loaded 40 no.jpg (225, 225, 3)\n",
            ">Loaded no 9.png (1080, 1920, 3)\n",
            ">Loaded no 96.jpg (664, 550, 4)\n",
            ">Loaded no 92.jpg (244, 206, 3)\n",
            ">Loaded 2 no.jpeg (630, 630, 3)\n",
            ">Loaded 7 no.jpg (417, 428, 3)\n",
            ">Loaded 41 no.jpg (225, 225, 3)\n",
            ">Loaded N19.JPG (282, 230, 3)\n",
            ">Loaded 48 no.jpeg (630, 630)\n",
            ">Loaded 38 no.jpg (251, 201, 3)\n",
            ">Loaded 46 no.jpg (530, 380, 3)\n",
            ">Loaded No18.jpg (454, 442, 4)\n",
            ">Loaded N6.jpg (257, 196, 3)\n",
            ">Loaded N2.JPG (248, 208, 3)\n",
            ">Loaded 24 no.jpg (214, 235, 3)\n",
            ">Loaded No21.jpg (442, 442)\n",
            ">Loaded 5 no.jpg (225, 225, 3)\n",
            ">Loaded no 89.jpg (540, 504, 3)\n",
            ">Loaded 17 no.jpg (231, 218, 3)\n",
            ">Loaded no 1.jpg (225, 225, 3)\n",
            ">Loaded no 923.jpg (225, 225, 3)\n",
            ">Loaded No16.jpg (200, 300, 3)\n",
            ">Loaded 10 no.jpg (201, 173, 3)\n",
            ">Loaded 14 no.jpg (197, 177, 3)\n",
            ">Loaded 21 no.jpg (225, 225, 3)\n",
            ">Loaded 39 no.jpg (225, 225, 3)\n",
            ">Loaded no 3.jpg (225, 225, 3)\n",
            ">Loaded 18 no.jpg (221, 228, 3)\n",
            ">Loaded N20.JPG (262, 227, 3)\n",
            ">Loaded 4 no.jpg (250, 201, 3)\n",
            ">Loaded no 2.jpg (217, 232, 3)\n",
            ">Loaded no 100.jpg (225, 225, 3)\n",
            ">Loaded 13 no.jpg (168, 300, 3)\n",
            ">Loaded no 94.jpg (630, 630)\n",
            ">Loaded 3 no.jpg (225, 225, 3)\n",
            ">Loaded 49 no.jpg (225, 225, 3)\n",
            ">Loaded 34 no.jpg (198, 150, 3)\n",
            ">Loaded no 95.jpg (301, 275)\n",
            ">Loaded no 7.jpeg (630, 630, 3)\n",
            ">Loaded 15 no.jpg (217, 232, 3)\n",
            ">Loaded 19 no.jpg (200, 200, 3)\n",
            ">Loaded No17.jpg (400, 393, 4)\n",
            ">Loaded No14.jpg (340, 339, 3)\n",
            ">Loaded No15.jpg (400, 393, 4)\n",
            ">Loaded 11 no.jpg (168, 300, 3)\n",
            ">Loaded N5.jpg (250, 201, 3)\n",
            ">Loaded 50 no.jpg (222, 227, 3)\n",
            ">Loaded 31 no.jpg (252, 200, 3)\n",
            ">Loaded no 97.jpg (442, 442, 3)\n",
            ">Loaded N17.jpg (393, 350, 3)\n",
            ">Loaded N3.jpg (275, 220)\n",
            ">Loaded 43 no.jpg (194, 259, 3)\n",
            ">Loaded 33 no.jpg (213, 236, 3)\n",
            ">Loaded 1 no.jpeg (630, 630)\n",
            ">Loaded 35 no.jpg (225, 225, 3)\n",
            ">Loaded no 5.jpeg (442, 442)\n",
            ">Loaded N11.jpg (614, 630, 3)\n"
          ],
          "name": "stdout"
        }
      ]
    },
    {
      "cell_type": "markdown",
      "metadata": {
        "id": "8HFFOuebahWO"
      },
      "source": [
        "#Saving the image into another format"
      ]
    },
    {
      "cell_type": "code",
      "metadata": {
        "colab": {
          "base_uri": "https://localhost:8080/"
        },
        "id": "355mGm_XaqzP",
        "outputId": "8281215c-1a98-41cb-d817-c11dbe18906d"
      },
      "source": [
        "from PIL import Image\n",
        "image = Image.open('yes/Y108.jpg')\n",
        "image.save('yes/Y108.png',format='PNG')\n",
        "up_format = Image.open('yes/Y108.png')\n",
        "print(up_format.format)"
      ],
      "execution_count": 14,
      "outputs": [
        {
          "output_type": "stream",
          "text": [
            "PNG\n"
          ],
          "name": "stdout"
        }
      ]
    },
    {
      "cell_type": "code",
      "metadata": {
        "colab": {
          "base_uri": "https://localhost:8080/"
        },
        "id": "LXIq56yDa9jV",
        "outputId": "efaa03cd-b25b-4db0-ef3c-9aae35ec5d34"
      },
      "source": [
        "#resize of image\n",
        "rs_size = Image.open('yes/Y108.jpg')\n",
        "image.thumbnail((50,20))\n",
        "print(image.size)"
      ],
      "execution_count": 15,
      "outputs": [
        {
          "output_type": "stream",
          "text": [
            "(18, 20)\n"
          ],
          "name": "stdout"
        }
      ]
    },
    {
      "cell_type": "code",
      "metadata": {
        "id": "66STNvd8bfAI"
      },
      "source": [
        "def brain_crop(image, plot=False):\n",
        "   \n",
        "    # Convert the image to grayscale, and blur it slightly\n",
        "    gray = cv2.cvtColor(image, cv2.COLOR_BGR2GRAY)\n",
        "    gray = cv2.GaussianBlur(gray, (5, 5), 0)\n",
        "\n",
        "    # Threshold the image, then perform a series of erosions +\n",
        "    # dilations to remove any small regions of noise\n",
        "    thresh = cv2.threshold(gray, 45, 255, cv2.THRESH_BINARY)[1]\n",
        "    thresh = cv2.erode(thresh, None, iterations=2)\n",
        "    thresh = cv2.dilate(thresh, None, iterations=2)\n",
        "\n",
        "    # Find contours in thresholded image, then grab the largest one\n",
        "    cnts = cv2.findContours(thresh.copy(), cv2.RETR_EXTERNAL, cv2.CHAIN_APPROX_SIMPLE)\n",
        "    cnts = imutils.grab_contours(cnts)\n",
        "    c = max(cnts, key=cv2.contourArea)\n",
        "    \n",
        "\n",
        "    # Find the extreme points\n",
        "    extLeft = tuple(c[c[:, :, 0].argmin()][0])\n",
        "    extRight = tuple(c[c[:, :, 0].argmax()][0])\n",
        "    extTop = tuple(c[c[:, :, 1].argmin()][0])\n",
        "    extBot = tuple(c[c[:, :, 1].argmax()][0])\n",
        "    \n",
        "    # crop new image out of the original image using the four extreme points (left, right, top, bottom)\n",
        "    new_image = image[extTop[1]:extBot[1], extLeft[0]:extRight[0]]            \n",
        "\n",
        "    if plot:\n",
        "        plt.figure()\n",
        "\n",
        "        plt.subplot(1, 2, 1)\n",
        "        plt.imshow(image)\n",
        "        \n",
        "        plt.tick_params(axis='both', which='both', \n",
        "                        top=False, bottom=False, left=False, right=False,\n",
        "                        labelbottom=False, labeltop=False, labelleft=False, labelright=False)\n",
        "        \n",
        "        plt.title('Original Image')\n",
        "            \n",
        "        plt.subplot(1, 2, 2)\n",
        "        plt.imshow(new_image)\n",
        "\n",
        "        plt.tick_params(axis='both', which='both', \n",
        "                        top=False, bottom=False, left=False, right=False,\n",
        "                        labelbottom=False, labeltop=False, labelleft=False, labelright=False)\n",
        "\n",
        "        plt.title('Cropped Image')\n",
        "        \n",
        "        plt.show()\n",
        "    \n",
        "    return new_image"
      ],
      "execution_count": 16,
      "outputs": []
    }
  ]
}